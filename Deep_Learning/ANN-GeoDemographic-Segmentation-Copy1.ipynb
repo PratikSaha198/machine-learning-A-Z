{
 "cells": [
  {
   "cell_type": "markdown",
   "metadata": {},
   "source": [
    "# Artificial Neural Networks\n",
    "#### Geo-Demographic Segmentation"
   ]
  },
  {
   "cell_type": "code",
   "execution_count": 1,
   "metadata": {},
   "outputs": [],
   "source": [
    "import tensorflow as tf\n",
    "import numpy as np\n",
    "import pandas as pd"
   ]
  },
  {
   "cell_type": "code",
   "execution_count": 2,
   "metadata": {},
   "outputs": [],
   "source": [
    "from tensorflow.compat.v1 import ConfigProto\n",
    "from tensorflow.compat.v1 import InteractiveSession\n",
    "\n",
    "config = ConfigProto()\n",
    "config.gpu_options.allow_growth = True\n",
    "session = InteractiveSession(config=config)"
   ]
  },
  {
   "cell_type": "markdown",
   "metadata": {},
   "source": [
    "## Part 1 - Data Preprocessing"
   ]
  },
  {
   "cell_type": "markdown",
   "metadata": {},
   "source": [
    "### Data Loading"
   ]
  },
  {
   "cell_type": "code",
   "execution_count": 3,
   "metadata": {},
   "outputs": [],
   "source": [
    "PATH = \"../../../Deep_Learning/ANN/Python/Churn_Modelling.csv\""
   ]
  },
  {
   "cell_type": "code",
   "execution_count": 4,
   "metadata": {},
   "outputs": [],
   "source": [
    "dataset = pd.read_csv(PATH)"
   ]
  },
  {
   "cell_type": "code",
   "execution_count": 5,
   "metadata": {},
   "outputs": [
    {
     "data": {
      "text/html": [
       "<div>\n",
       "<style scoped>\n",
       "    .dataframe tbody tr th:only-of-type {\n",
       "        vertical-align: middle;\n",
       "    }\n",
       "\n",
       "    .dataframe tbody tr th {\n",
       "        vertical-align: top;\n",
       "    }\n",
       "\n",
       "    .dataframe thead th {\n",
       "        text-align: right;\n",
       "    }\n",
       "</style>\n",
       "<table border=\"1\" class=\"dataframe\">\n",
       "  <thead>\n",
       "    <tr style=\"text-align: right;\">\n",
       "      <th></th>\n",
       "      <th>RowNumber</th>\n",
       "      <th>CustomerId</th>\n",
       "      <th>Surname</th>\n",
       "      <th>CreditScore</th>\n",
       "      <th>Geography</th>\n",
       "      <th>Gender</th>\n",
       "      <th>Age</th>\n",
       "      <th>Tenure</th>\n",
       "      <th>Balance</th>\n",
       "      <th>NumOfProducts</th>\n",
       "      <th>HasCrCard</th>\n",
       "      <th>IsActiveMember</th>\n",
       "      <th>EstimatedSalary</th>\n",
       "      <th>Exited</th>\n",
       "    </tr>\n",
       "  </thead>\n",
       "  <tbody>\n",
       "    <tr>\n",
       "      <th>0</th>\n",
       "      <td>1</td>\n",
       "      <td>15634602</td>\n",
       "      <td>Hargrave</td>\n",
       "      <td>619</td>\n",
       "      <td>France</td>\n",
       "      <td>Female</td>\n",
       "      <td>42</td>\n",
       "      <td>2</td>\n",
       "      <td>0.00</td>\n",
       "      <td>1</td>\n",
       "      <td>1</td>\n",
       "      <td>1</td>\n",
       "      <td>101348.88</td>\n",
       "      <td>1</td>\n",
       "    </tr>\n",
       "    <tr>\n",
       "      <th>1</th>\n",
       "      <td>2</td>\n",
       "      <td>15647311</td>\n",
       "      <td>Hill</td>\n",
       "      <td>608</td>\n",
       "      <td>Spain</td>\n",
       "      <td>Female</td>\n",
       "      <td>41</td>\n",
       "      <td>1</td>\n",
       "      <td>83807.86</td>\n",
       "      <td>1</td>\n",
       "      <td>0</td>\n",
       "      <td>1</td>\n",
       "      <td>112542.58</td>\n",
       "      <td>0</td>\n",
       "    </tr>\n",
       "    <tr>\n",
       "      <th>2</th>\n",
       "      <td>3</td>\n",
       "      <td>15619304</td>\n",
       "      <td>Onio</td>\n",
       "      <td>502</td>\n",
       "      <td>France</td>\n",
       "      <td>Female</td>\n",
       "      <td>42</td>\n",
       "      <td>8</td>\n",
       "      <td>159660.80</td>\n",
       "      <td>3</td>\n",
       "      <td>1</td>\n",
       "      <td>0</td>\n",
       "      <td>113931.57</td>\n",
       "      <td>1</td>\n",
       "    </tr>\n",
       "    <tr>\n",
       "      <th>3</th>\n",
       "      <td>4</td>\n",
       "      <td>15701354</td>\n",
       "      <td>Boni</td>\n",
       "      <td>699</td>\n",
       "      <td>France</td>\n",
       "      <td>Female</td>\n",
       "      <td>39</td>\n",
       "      <td>1</td>\n",
       "      <td>0.00</td>\n",
       "      <td>2</td>\n",
       "      <td>0</td>\n",
       "      <td>0</td>\n",
       "      <td>93826.63</td>\n",
       "      <td>0</td>\n",
       "    </tr>\n",
       "    <tr>\n",
       "      <th>4</th>\n",
       "      <td>5</td>\n",
       "      <td>15737888</td>\n",
       "      <td>Mitchell</td>\n",
       "      <td>850</td>\n",
       "      <td>Spain</td>\n",
       "      <td>Female</td>\n",
       "      <td>43</td>\n",
       "      <td>2</td>\n",
       "      <td>125510.82</td>\n",
       "      <td>1</td>\n",
       "      <td>1</td>\n",
       "      <td>1</td>\n",
       "      <td>79084.10</td>\n",
       "      <td>0</td>\n",
       "    </tr>\n",
       "  </tbody>\n",
       "</table>\n",
       "</div>"
      ],
      "text/plain": [
       "   RowNumber  CustomerId   Surname  CreditScore Geography  Gender  Age  \\\n",
       "0          1    15634602  Hargrave          619    France  Female   42   \n",
       "1          2    15647311      Hill          608     Spain  Female   41   \n",
       "2          3    15619304      Onio          502    France  Female   42   \n",
       "3          4    15701354      Boni          699    France  Female   39   \n",
       "4          5    15737888  Mitchell          850     Spain  Female   43   \n",
       "\n",
       "   Tenure    Balance  NumOfProducts  HasCrCard  IsActiveMember  \\\n",
       "0       2       0.00              1          1               1   \n",
       "1       1   83807.86              1          0               1   \n",
       "2       8  159660.80              3          1               0   \n",
       "3       1       0.00              2          0               0   \n",
       "4       2  125510.82              1          1               1   \n",
       "\n",
       "   EstimatedSalary  Exited  \n",
       "0        101348.88       1  \n",
       "1        112542.58       0  \n",
       "2        113931.57       1  \n",
       "3         93826.63       0  \n",
       "4         79084.10       0  "
      ]
     },
     "execution_count": 5,
     "metadata": {},
     "output_type": "execute_result"
    }
   ],
   "source": [
    "dataset.head()"
   ]
  },
  {
   "cell_type": "code",
   "execution_count": 6,
   "metadata": {},
   "outputs": [],
   "source": [
    "X = dataset.iloc[:, 3:-1].values\n",
    "y = dataset.iloc[:, -1].values"
   ]
  },
  {
   "cell_type": "markdown",
   "metadata": {},
   "source": [
    "### Encoding the Categorical Variables"
   ]
  },
  {
   "cell_type": "code",
   "execution_count": 7,
   "metadata": {},
   "outputs": [],
   "source": [
    "from sklearn.preprocessing import LabelEncoder\n",
    "\n",
    "le = LabelEncoder()\n",
    "X[:, 2] = le.fit_transform(X[:, 2])"
   ]
  },
  {
   "cell_type": "code",
   "execution_count": 8,
   "metadata": {},
   "outputs": [],
   "source": [
    "from sklearn.compose import ColumnTransformer\n",
    "from sklearn.preprocessing import OneHotEncoder\n",
    "\n",
    "ct = ColumnTransformer(transformers=[('encoder', \n",
    "                                      OneHotEncoder(), [1])], \n",
    "                       remainder='passthrough')\n",
    "X = np.array(ct.fit_transform(X))"
   ]
  },
  {
   "cell_type": "markdown",
   "metadata": {},
   "source": [
    "### Train Test Split"
   ]
  },
  {
   "cell_type": "code",
   "execution_count": 9,
   "metadata": {},
   "outputs": [],
   "source": [
    "from sklearn.model_selection import train_test_split\n",
    "\n",
    "X_train, X_test, y_train, y_test = train_test_split(X, y, \n",
    "                                                    test_size=0.20, \n",
    "                                                    random_state=42)"
   ]
  },
  {
   "cell_type": "markdown",
   "metadata": {},
   "source": [
    "### Feature Scaling"
   ]
  },
  {
   "cell_type": "code",
   "execution_count": 10,
   "metadata": {},
   "outputs": [],
   "source": [
    "from sklearn.preprocessing import StandardScaler\n",
    "\n",
    "sc = StandardScaler()\n",
    "X_train = sc.fit_transform(X_train)\n",
    "X_test = sc.transform(X_test)"
   ]
  },
  {
   "cell_type": "markdown",
   "metadata": {},
   "source": [
    "## Part 2 - Model Building"
   ]
  },
  {
   "cell_type": "code",
   "execution_count": 11,
   "metadata": {},
   "outputs": [
    {
     "name": "stdout",
     "output_type": "stream",
     "text": [
      "(8000, 12)\n"
     ]
    }
   ],
   "source": [
    "print(X_train.shape)"
   ]
  },
  {
   "cell_type": "code",
   "execution_count": 12,
   "metadata": {},
   "outputs": [],
   "source": [
    "from tensorflow.keras.models import Sequential\n",
    "from tensorflow.keras.layers import Dense\n",
    "\n",
    "tf.random.set_seed(42)\n",
    "\n",
    "ann = Sequential()\n",
    "ann.add(Dense(6, activation='relu', input_shape=(12, )))\n",
    "ann.add(Dense(3, activation='relu'))\n",
    "ann.add(Dense(1, activation='sigmoid'))\n",
    "\n",
    "ann.compile(optimizer='adam', loss='binary_crossentropy', \n",
    "            metrics=['accuracy'])"
   ]
  },
  {
   "cell_type": "markdown",
   "metadata": {},
   "source": [
    "## Part 3 - Model Training"
   ]
  },
  {
   "cell_type": "code",
   "execution_count": 13,
   "metadata": {},
   "outputs": [
    {
     "name": "stdout",
     "output_type": "stream",
     "text": [
      "Train on 8000 samples\n",
      "Epoch 1/100\n",
      "8000/8000 [==============================] - 1s 90us/sample - loss: 0.5700 - accuracy: 0.7456\n",
      "Epoch 2/100\n",
      "8000/8000 [==============================] - 0s 49us/sample - loss: 0.4709 - accuracy: 0.7968\n",
      "Epoch 3/100\n",
      "8000/8000 [==============================] - 0s 48us/sample - loss: 0.4464 - accuracy: 0.8056\n",
      "Epoch 4/100\n",
      "8000/8000 [==============================] - 0s 47us/sample - loss: 0.4368 - accuracy: 0.8089\n",
      "Epoch 5/100\n",
      "8000/8000 [==============================] - 0s 47us/sample - loss: 0.4308 - accuracy: 0.8131\n",
      "Epoch 6/100\n",
      "8000/8000 [==============================] - 0s 47us/sample - loss: 0.4260 - accuracy: 0.8141\n",
      "Epoch 7/100\n",
      "8000/8000 [==============================] - 0s 47us/sample - loss: 0.4209 - accuracy: 0.8179\n",
      "Epoch 8/100\n",
      "8000/8000 [==============================] - 0s 48us/sample - loss: 0.4151 - accuracy: 0.8219\n",
      "Epoch 9/100\n",
      "8000/8000 [==============================] - 0s 48us/sample - loss: 0.4069 - accuracy: 0.8260\n",
      "Epoch 10/100\n",
      "8000/8000 [==============================] - 0s 47us/sample - loss: 0.3972 - accuracy: 0.8315\n",
      "Epoch 11/100\n",
      "8000/8000 [==============================] - 0s 49us/sample - loss: 0.3870 - accuracy: 0.8356\n",
      "Epoch 12/100\n",
      "8000/8000 [==============================] - 0s 50us/sample - loss: 0.3765 - accuracy: 0.8418\n",
      "Epoch 13/100\n",
      "8000/8000 [==============================] - 0s 48us/sample - loss: 0.3672 - accuracy: 0.8462\n",
      "Epoch 14/100\n",
      "8000/8000 [==============================] - 0s 49us/sample - loss: 0.3600 - accuracy: 0.8500\n",
      "Epoch 15/100\n",
      "8000/8000 [==============================] - 0s 48us/sample - loss: 0.3554 - accuracy: 0.8529\n",
      "Epoch 16/100\n",
      "8000/8000 [==============================] - 0s 49us/sample - loss: 0.3521 - accuracy: 0.8562\n",
      "Epoch 17/100\n",
      "8000/8000 [==============================] - 0s 49us/sample - loss: 0.3499 - accuracy: 0.8564\n",
      "Epoch 18/100\n",
      "8000/8000 [==============================] - 0s 49us/sample - loss: 0.3481 - accuracy: 0.8569\n",
      "Epoch 19/100\n",
      "8000/8000 [==============================] - 0s 48us/sample - loss: 0.3469 - accuracy: 0.8569\n",
      "Epoch 20/100\n",
      "8000/8000 [==============================] - 0s 48us/sample - loss: 0.3460 - accuracy: 0.8584\n",
      "Epoch 21/100\n",
      "8000/8000 [==============================] - 0s 48us/sample - loss: 0.3449 - accuracy: 0.8581\n",
      "Epoch 22/100\n",
      "8000/8000 [==============================] - 0s 49us/sample - loss: 0.3444 - accuracy: 0.8586\n",
      "Epoch 23/100\n",
      "8000/8000 [==============================] - 0s 48us/sample - loss: 0.3437 - accuracy: 0.8595\n",
      "Epoch 24/100\n",
      "8000/8000 [==============================] - 0s 47us/sample - loss: 0.3434 - accuracy: 0.8577\n",
      "Epoch 25/100\n",
      "8000/8000 [==============================] - 0s 47us/sample - loss: 0.3431 - accuracy: 0.8602\n",
      "Epoch 26/100\n",
      "8000/8000 [==============================] - 0s 48us/sample - loss: 0.3422 - accuracy: 0.8602\n",
      "Epoch 27/100\n",
      "8000/8000 [==============================] - 0s 47us/sample - loss: 0.3423 - accuracy: 0.8591\n",
      "Epoch 28/100\n",
      "8000/8000 [==============================] - 0s 47us/sample - loss: 0.3415 - accuracy: 0.8587\n",
      "Epoch 29/100\n",
      "8000/8000 [==============================] - 0s 47us/sample - loss: 0.3412 - accuracy: 0.8606\n",
      "Epoch 30/100\n",
      "8000/8000 [==============================] - 0s 47us/sample - loss: 0.3409 - accuracy: 0.8585\n",
      "Epoch 31/100\n",
      "8000/8000 [==============================] - 0s 48us/sample - loss: 0.3406 - accuracy: 0.8602\n",
      "Epoch 32/100\n",
      "8000/8000 [==============================] - 0s 48us/sample - loss: 0.3401 - accuracy: 0.8612\n",
      "Epoch 33/100\n",
      "8000/8000 [==============================] - 0s 49us/sample - loss: 0.3395 - accuracy: 0.8630\n",
      "Epoch 34/100\n",
      "8000/8000 [==============================] - 0s 48us/sample - loss: 0.3392 - accuracy: 0.8614\n",
      "Epoch 35/100\n",
      "8000/8000 [==============================] - 0s 48us/sample - loss: 0.3392 - accuracy: 0.8609\n",
      "Epoch 36/100\n",
      "8000/8000 [==============================] - 0s 48us/sample - loss: 0.3391 - accuracy: 0.8624\n",
      "Epoch 37/100\n",
      "8000/8000 [==============================] - 0s 48us/sample - loss: 0.3389 - accuracy: 0.8614\n",
      "Epoch 38/100\n",
      "8000/8000 [==============================] - 0s 48us/sample - loss: 0.3386 - accuracy: 0.8612\n",
      "Epoch 39/100\n",
      "8000/8000 [==============================] - 0s 48us/sample - loss: 0.3384 - accuracy: 0.8626\n",
      "Epoch 40/100\n",
      "8000/8000 [==============================] - 0s 48us/sample - loss: 0.3385 - accuracy: 0.8615\n",
      "Epoch 41/100\n",
      "8000/8000 [==============================] - 0s 48us/sample - loss: 0.3385 - accuracy: 0.8619\n",
      "Epoch 42/100\n",
      "8000/8000 [==============================] - 0s 48us/sample - loss: 0.3376 - accuracy: 0.8630\n",
      "Epoch 43/100\n",
      "8000/8000 [==============================] - 0s 48us/sample - loss: 0.3379 - accuracy: 0.8636\n",
      "Epoch 44/100\n",
      "8000/8000 [==============================] - 0s 49us/sample - loss: 0.3376 - accuracy: 0.8626\n",
      "Epoch 45/100\n",
      "8000/8000 [==============================] - 0s 48us/sample - loss: 0.3374 - accuracy: 0.8636\n",
      "Epoch 46/100\n",
      "8000/8000 [==============================] - 0s 49us/sample - loss: 0.3368 - accuracy: 0.8634\n",
      "Epoch 47/100\n",
      "8000/8000 [==============================] - 0s 49us/sample - loss: 0.3366 - accuracy: 0.8625\n",
      "Epoch 48/100\n",
      "8000/8000 [==============================] - 0s 47us/sample - loss: 0.3366 - accuracy: 0.8621\n",
      "Epoch 49/100\n",
      "8000/8000 [==============================] - 0s 48us/sample - loss: 0.3364 - accuracy: 0.8637\n",
      "Epoch 50/100\n",
      "8000/8000 [==============================] - 0s 48us/sample - loss: 0.3360 - accuracy: 0.8629\n",
      "Epoch 51/100\n",
      "8000/8000 [==============================] - 0s 48us/sample - loss: 0.3362 - accuracy: 0.8627\n",
      "Epoch 52/100\n",
      "8000/8000 [==============================] - 0s 47us/sample - loss: 0.3358 - accuracy: 0.8637\n",
      "Epoch 53/100\n",
      "8000/8000 [==============================] - 0s 48us/sample - loss: 0.3356 - accuracy: 0.8629\n",
      "Epoch 54/100\n",
      "8000/8000 [==============================] - 0s 48us/sample - loss: 0.3353 - accuracy: 0.8644\n",
      "Epoch 55/100\n",
      "8000/8000 [==============================] - 0s 48us/sample - loss: 0.3351 - accuracy: 0.8624\n",
      "Epoch 56/100\n",
      "8000/8000 [==============================] - 0s 48us/sample - loss: 0.3350 - accuracy: 0.8627\n",
      "Epoch 57/100\n",
      "8000/8000 [==============================] - 0s 47us/sample - loss: 0.3354 - accuracy: 0.8629\n",
      "Epoch 58/100\n",
      "8000/8000 [==============================] - 0s 47us/sample - loss: 0.3353 - accuracy: 0.8640\n",
      "Epoch 59/100\n",
      "8000/8000 [==============================] - 0s 48us/sample - loss: 0.3349 - accuracy: 0.8626\n",
      "Epoch 60/100\n",
      "8000/8000 [==============================] - 0s 48us/sample - loss: 0.3345 - accuracy: 0.8637\n",
      "Epoch 61/100\n",
      "8000/8000 [==============================] - 0s 47us/sample - loss: 0.3349 - accuracy: 0.8624\n",
      "Epoch 62/100\n",
      "8000/8000 [==============================] - 0s 48us/sample - loss: 0.3343 - accuracy: 0.8629\n",
      "Epoch 63/100\n",
      "8000/8000 [==============================] - 0s 49us/sample - loss: 0.3345 - accuracy: 0.8626\n",
      "Epoch 64/100\n",
      "8000/8000 [==============================] - 0s 48us/sample - loss: 0.3343 - accuracy: 0.8625\n",
      "Epoch 65/100\n",
      "8000/8000 [==============================] - 0s 48us/sample - loss: 0.3343 - accuracy: 0.8627\n",
      "Epoch 66/100\n",
      "8000/8000 [==============================] - 0s 48us/sample - loss: 0.3343 - accuracy: 0.8633\n",
      "Epoch 67/100\n",
      "8000/8000 [==============================] - 0s 48us/sample - loss: 0.3340 - accuracy: 0.8629\n",
      "Epoch 68/100\n",
      "8000/8000 [==============================] - 0s 48us/sample - loss: 0.3344 - accuracy: 0.8629\n",
      "Epoch 69/100\n",
      "8000/8000 [==============================] - 0s 48us/sample - loss: 0.3337 - accuracy: 0.8640\n",
      "Epoch 70/100\n",
      "8000/8000 [==============================] - 0s 48us/sample - loss: 0.3337 - accuracy: 0.8639\n",
      "Epoch 71/100\n",
      "8000/8000 [==============================] - 0s 48us/sample - loss: 0.3338 - accuracy: 0.8630\n",
      "Epoch 72/100\n",
      "8000/8000 [==============================] - 0s 48us/sample - loss: 0.3333 - accuracy: 0.8631\n",
      "Epoch 73/100\n",
      "8000/8000 [==============================] - 0s 48us/sample - loss: 0.3338 - accuracy: 0.8640\n",
      "Epoch 74/100\n",
      "8000/8000 [==============================] - 0s 48us/sample - loss: 0.3333 - accuracy: 0.8633\n",
      "Epoch 75/100\n",
      "8000/8000 [==============================] - 0s 48us/sample - loss: 0.3334 - accuracy: 0.8630\n",
      "Epoch 76/100\n",
      "8000/8000 [==============================] - 0s 49us/sample - loss: 0.3332 - accuracy: 0.8626\n",
      "Epoch 77/100\n",
      "8000/8000 [==============================] - 0s 48us/sample - loss: 0.3331 - accuracy: 0.8633\n",
      "Epoch 78/100\n",
      "8000/8000 [==============================] - 0s 49us/sample - loss: 0.3331 - accuracy: 0.8645\n",
      "Epoch 79/100\n",
      "8000/8000 [==============================] - 0s 48us/sample - loss: 0.3330 - accuracy: 0.8645\n",
      "Epoch 80/100\n",
      "8000/8000 [==============================] - 0s 48us/sample - loss: 0.3332 - accuracy: 0.8631\n",
      "Epoch 81/100\n",
      "8000/8000 [==============================] - 0s 49us/sample - loss: 0.3326 - accuracy: 0.8634\n",
      "Epoch 82/100\n",
      "8000/8000 [==============================] - 0s 48us/sample - loss: 0.3331 - accuracy: 0.8630\n",
      "Epoch 83/100\n",
      "8000/8000 [==============================] - 0s 48us/sample - loss: 0.3330 - accuracy: 0.8641\n",
      "Epoch 84/100\n",
      "8000/8000 [==============================] - 0s 48us/sample - loss: 0.3330 - accuracy: 0.8640\n",
      "Epoch 85/100\n",
      "8000/8000 [==============================] - 0s 48us/sample - loss: 0.3330 - accuracy: 0.8637\n",
      "Epoch 86/100\n",
      "8000/8000 [==============================] - 0s 47us/sample - loss: 0.3328 - accuracy: 0.8619\n",
      "Epoch 87/100\n",
      "8000/8000 [==============================] - 0s 48us/sample - loss: 0.3328 - accuracy: 0.8637\n",
      "Epoch 88/100\n",
      "8000/8000 [==============================] - 0s 49us/sample - loss: 0.3326 - accuracy: 0.8643\n",
      "Epoch 89/100\n",
      "8000/8000 [==============================] - 0s 47us/sample - loss: 0.3329 - accuracy: 0.8634\n",
      "Epoch 90/100\n",
      "8000/8000 [==============================] - 0s 49us/sample - loss: 0.3331 - accuracy: 0.8629\n",
      "Epoch 91/100\n",
      "8000/8000 [==============================] - 0s 48us/sample - loss: 0.3324 - accuracy: 0.8640\n",
      "Epoch 92/100\n",
      "8000/8000 [==============================] - 0s 48us/sample - loss: 0.3325 - accuracy: 0.8634\n",
      "Epoch 93/100\n",
      "8000/8000 [==============================] - 0s 49us/sample - loss: 0.3327 - accuracy: 0.8634\n",
      "Epoch 94/100\n",
      "8000/8000 [==============================] - 0s 49us/sample - loss: 0.3322 - accuracy: 0.8644\n",
      "Epoch 95/100\n",
      "8000/8000 [==============================] - 0s 48us/sample - loss: 0.3327 - accuracy: 0.8641\n",
      "Epoch 96/100\n",
      "8000/8000 [==============================] - 0s 48us/sample - loss: 0.3324 - accuracy: 0.8646\n",
      "Epoch 97/100\n",
      "8000/8000 [==============================] - 0s 49us/sample - loss: 0.3324 - accuracy: 0.8651\n",
      "Epoch 98/100\n",
      "8000/8000 [==============================] - 0s 49us/sample - loss: 0.3324 - accuracy: 0.8631\n",
      "Epoch 99/100\n",
      "8000/8000 [==============================] - 0s 48us/sample - loss: 0.3322 - accuracy: 0.8643\n",
      "Epoch 100/100\n",
      "8000/8000 [==============================] - 0s 49us/sample - loss: 0.3324 - accuracy: 0.8637\n"
     ]
    },
    {
     "data": {
      "text/plain": [
       "<tensorflow.python.keras.callbacks.History at 0x7faee008e410>"
      ]
     },
     "execution_count": 13,
     "metadata": {},
     "output_type": "execute_result"
    }
   ],
   "source": [
    "epochs = 100\n",
    "batch_size = 32\n",
    "ann.fit(X_train, y_train, batch_size=batch_size , epochs=epochs)"
   ]
  },
  {
   "cell_type": "markdown",
   "metadata": {},
   "source": [
    "## Part 4 - Model Evaluation"
   ]
  },
  {
   "cell_type": "markdown",
   "metadata": {},
   "source": [
    "### History"
   ]
  },
  {
   "cell_type": "code",
   "execution_count": 14,
   "metadata": {},
   "outputs": [],
   "source": [
    "history = ann.history.history\n",
    "loss = history['loss']\n",
    "accuracy = history['accuracy']"
   ]
  },
  {
   "cell_type": "code",
   "execution_count": 15,
   "metadata": {},
   "outputs": [
    {
     "data": {
      "image/png": "[encoded data removed]",
      "text/plain": [
       "<Figure size 864x576 with 1 Axes>"
      ]
     },
     "metadata": {
      "needs_background": "light"
     },
     "output_type": "display_data"
    }
   ],
   "source": [
    "import matplotlib.pyplot as plt\n",
    "\n",
    "plt.figure(figsize=(12, 8))\n",
    "plt.plot(loss, label='Loss')\n",
    "plt.plot(accuracy, label='Accuracy')\n",
    "plt.legend()\n",
    "plt.xlabel('Epochs')\n",
    "plt.show()"
   ]
  },
  {
   "cell_type": "markdown",
   "metadata": {},
   "source": [
    "### Prediction"
   ]
  },
  {
   "cell_type": "code",
   "execution_count": 16,
   "metadata": {},
   "outputs": [],
   "source": [
    "sample = [[600, 'France', 'Male', 40, 3, 60000, 2, 1, 1, 50000]]\n",
    "\n",
    "sample = np.array(sample)\n",
    "sample[:, 2] = le.transform(sample[:, 2])\n",
    "sample = np.array(ct.transform(sample))\n",
    "sample = sc.transform(sample)"
   ]
  },
  {
   "cell_type": "code",
   "execution_count": 17,
   "metadata": {},
   "outputs": [
    {
     "name": "stdout",
     "output_type": "stream",
     "text": [
      "[[False]]\n"
     ]
    }
   ],
   "source": [
    "print(ann.predict(sample) > 0.5)"
   ]
  },
  {
   "cell_type": "code",
   "execution_count": 18,
   "metadata": {},
   "outputs": [
    {
     "name": "stdout",
     "output_type": "stream",
     "text": [
      "[[0 0]\n",
      " [0 0]\n",
      " [0 0]\n",
      " ...\n",
      " [1 1]\n",
      " [1 0]\n",
      " [1 0]]\n"
     ]
    }
   ],
   "source": [
    "y_pred = ann.predict_classes(X_test)\n",
    "print(np.concatenate((y_test.reshape(len(y_pred),1), y_pred.reshape(len(y_pred),1)), axis=1))"
   ]
  },
  {
   "cell_type": "markdown",
   "metadata": {},
   "source": [
    "### Confusion Matrix"
   ]
  },
  {
   "cell_type": "code",
   "execution_count": 19,
   "metadata": {},
   "outputs": [
    {
     "data": {
      "image/png": "[encoded data removed]",
      "text/plain": [
       "<Figure size 432x288 with 2 Axes>"
      ]
     },
     "metadata": {},
     "output_type": "display_data"
    }
   ],
   "source": [
    "import seaborn as sn\n",
    "from sklearn.metrics import confusion_matrix\n",
    "\n",
    "cm = confusion_matrix(y_test, y_pred)\n",
    "df_cm = pd.DataFrame(cm, range(len(cm[0])), range(len(cm[0])))\n",
    "sn.set(font_scale=1.4)\n",
    "sn.heatmap(df_cm, annot=True, annot_kws={\"size\": 16})\n",
    "plt.show()"
   ]
  },
  {
   "cell_type": "markdown",
   "metadata": {},
   "source": [
    "### Accuracy Score"
   ]
  },
  {
   "cell_type": "code",
   "execution_count": 20,
   "metadata": {},
   "outputs": [
    {
     "data": {
      "text/plain": [
       "0.8665"
      ]
     },
     "execution_count": 20,
     "metadata": {},
     "output_type": "execute_result"
    }
   ],
   "source": [
    "from sklearn.metrics import accuracy_score\n",
    "\n",
    "accuracy_score(y_test, y_pred)"
   ]
  }
 ],
 "metadata": {
  "kernelspec": {
   "display_name": "Python 3",
   "language": "python",
   "name": "python3"
  },
  "language_info": {
   "codemirror_mode": {
    "name": "ipython",
    "version": 3
   },
   "file_extension": ".py",
   "mimetype": "text/x-python",
   "name": "python",
   "nbconvert_exporter": "python",
   "pygments_lexer": "ipython3",
   "version": "3.7.7"
  }
 },
 "nbformat": 4,
 "nbformat_minor": 4
}
